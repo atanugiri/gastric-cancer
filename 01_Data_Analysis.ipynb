{
 "cells": [
  {
   "cell_type": "markdown",
   "id": "a020e799-e327-46da-89b2-0140219c6de4",
   "metadata": {},
   "source": [
    "## Read gene expression and clinical data files"
   ]
  },
  {
   "cell_type": "code",
   "execution_count": 1,
   "id": "5eb479c8-a616-4119-afd3-ba9b17051ee6",
   "metadata": {
    "scrolled": true
   },
   "outputs": [
    {
     "name": "stdout",
     "output_type": "stream",
     "text": [
      "       TCGA-BR-4279-01  TCGA-VQ-A94T-01  TCGA-BR-8589-01  TCGA-BR-A4IV-01  \\\n",
      "A1CF           10.4647           6.6146          10.4016           4.6554   \n",
      "A2ML1           0.0000           4.3985           2.4817           1.3475   \n",
      "\n",
      "       TCGA-VQ-A8E2-01  TCGA-BR-8297-01  TCGA-D7-A4YY-01  TCGA-BR-4280-01  \\\n",
      "A1CF            9.8054           4.7419           5.1548          10.5675   \n",
      "A2ML1           3.4159           2.4948           6.3345           0.0000   \n",
      "\n",
      "       TCGA-D7-A74A-01  TCGA-F1-6177-01  ...  GTEX-QV44-1226-SM-4R1KE  \\\n",
      "A1CF            9.4567          10.7863  ...                   5.7464   \n",
      "A2ML1           6.7217           0.0000  ...                   3.5820   \n",
      "\n",
      "       GTEX-13PVQ-2126-SM-5L3FW  GTEX-SNMC-0626-SM-4DM6H  \\\n",
      "A1CF                     3.5094                   5.3059   \n",
      "A2ML1                    3.3348                   4.4367   \n",
      "\n",
      "       GTEX-WZTO-2126-SM-4PQYW  GTEX-Q2AH-1126-SM-48TZM  \\\n",
      "A1CF                    3.2506                   5.4593   \n",
      "A2ML1                   3.0795                   5.4593   \n",
      "\n",
      "       GTEX-P4QT-1526-SM-3NMCT  TCGA-CG-5734-11  GTEX-QDVJ-1426-SM-48U1Y  \\\n",
      "A1CF                    0.0000          12.1036                   5.1895   \n",
      "A2ML1                   3.6917           1.9619                   3.7267   \n",
      "\n",
      "       GTEX-ZYVF-2726-SM-5GID4  GTEX-12BJ1-1726-SM-5HL9B  \n",
      "A1CF                    1.5227                    5.7748  \n",
      "A2ML1                   4.9529                    5.7748  \n",
      "\n",
      "[2 rows x 623 columns]\n",
      "(8863, 623)\n",
      "         Sample ID  Diagnosis Age  Disease Free (Months) Disease Free Status  \\\n",
      "0  TCGA-3M-AB46-01            NaN              58.026761       0:DiseaseFree   \n",
      "1  TCGA-3M-AB47-01            NaN                    NaN                 NaN   \n",
      "\n",
      "   Fraction Genome Altered ICD-10 Classification  Mutation Count  \\\n",
      "0                   0.5104                 C16.5           157.0   \n",
      "1                   0.1697                 C16.9            94.0   \n",
      "\n",
      "   Overall Survival (Months)  Overall Survival Status AJCC Pathologic M-Stage  \\\n",
      "0                  57.982917                      0.0                      MX   \n",
      "1                        NaN                      1.0                      MX   \n",
      "\n",
      "  AJCC Pathologic N-Stage AJCC Pathologic Stage AJCC Pathologic T-Stage  \\\n",
      "0                      N0              Stage IB                     T2b   \n",
      "1                      N2            Stage IIIB                      T3   \n",
      "\n",
      "  Race Category   Sex  \n",
      "0         WHITE  Male  \n",
      "1         WHITE  Male  \n",
      "(443, 15)\n"
     ]
    }
   ],
   "source": [
    "import pandas as pd\n",
    "import os\n",
    "import importlib\n",
    "# import clean_gene_name  # import the module first\n",
    "# importlib.reload(clean_gene_name)  # reload the module\n",
    "# gene_name import clean_gene_name  # re-import the updated function\n",
    "\n",
    "# Load expression_df\n",
    "path = ('/Users/atanugiri/.cache/kagglehub/datasets/mahdiehhajian/'\n",
    "'gene-expression-in-gastric-cancer/versions/1')\n",
    "\n",
    "# Full file path\n",
    "file_path = os.path.join(path, 'expression profile(8863 genes).csv')\n",
    "\n",
    "# Read the CSV and set first column as index\n",
    "expression_df = pd.read_csv(file_path, index_col=0)\n",
    "\n",
    "# Preview\n",
    "print(expression_df.head(2))\n",
    "print(expression_df.shape)\n",
    "\n",
    "\n",
    "# Load clinical_df\n",
    "file_path = 'tcga_gdc_clinical_data.tsv'\n",
    "columns_to_use = ['Sample ID', 'Diagnosis Age', 'Disease Free (Months)', \n",
    "                 'Disease Free Status', 'Fraction Genome Altered', 'ICD-10 Classification',\n",
    "                 'Mutation Count', 'Overall Survival (Months)', 'Overall Survival Status',\n",
    "                 'AJCC Pathologic M-Stage', 'AJCC Pathologic N-Stage', 'AJCC Pathologic Stage',\n",
    "                 'AJCC Pathologic T-Stage', 'Race Category', 'Sex']\n",
    "# Read the file with tab separator and selected columns\n",
    "clinical_df = pd.read_csv(file_path, sep='\\t', usecols=columns_to_use)\n",
    "\n",
    "# Convert status to numeric\n",
    "status_map = {'0:LIVING': 0, '1:DECEASED': 1}\n",
    "clinical_df[\"Overall Survival Status\"] = clinical_df[\"Overall Survival Status\"].map(status_map)\n",
    "\n",
    "# Preview the data\n",
    "print(clinical_df.head(n=2))\n",
    "print(clinical_df.shape)"
   ]
  },
  {
   "cell_type": "code",
   "execution_count": 2,
   "id": "806f9180-dec8-4db1-97b8-a878d270624e",
   "metadata": {},
   "outputs": [
    {
     "name": "stdout",
     "output_type": "stream",
     "text": [
      "Index(['TCGA-BR-4279-01', 'TCGA-VQ-A94T-01', 'TCGA-BR-8589-01',\n",
      "       'TCGA-BR-A4IV-01', 'TCGA-VQ-A8E2-01', 'TCGA-BR-8297-01',\n",
      "       'TCGA-D7-A4YY-01', 'TCGA-BR-4280-01', 'TCGA-D7-A74A-01',\n",
      "       'TCGA-F1-6177-01',\n",
      "       ...\n",
      "       'TCGA-VQ-A92D-01', 'TCGA-HU-A4H0-01', 'TCGA-RD-A7BW-01',\n",
      "       'TCGA-BR-8686-01', 'TCGA-BR-4256-01', 'TCGA-D7-8576-01',\n",
      "       'TCGA-VQ-A8DT-01', 'TCGA-BR-4363-01', 'TCGA-CD-A486-01',\n",
      "       'TCGA-HU-A4G6-01'],\n",
      "      dtype='object', length=413)\n",
      "413\n",
      "expression_df shape: (8863, 413)\n",
      "expression_df shape: (413, 15)\n"
     ]
    }
   ],
   "source": [
    "# Step 1: Clean and align patient IDs\n",
    "expression_df.columns = expression_df.columns.str.strip().str.upper()\n",
    "clinical_df[\"Sample ID\"] = clinical_df[\"Sample ID\"].str.strip().str.upper()\n",
    "\n",
    "# Step 2: Find common samples\n",
    "common_samples = expression_df.columns.intersection(clinical_df[\"Sample ID\"])\n",
    "print(common_samples)\n",
    "print(len(common_samples))\n",
    "\n",
    "# Step 3: Subset both datasets to common patients\n",
    "expression_df = expression_df[common_samples]\n",
    "clinical_df = clinical_df[clinical_df[\"Sample ID\"].isin(common_samples)]\n",
    "\n",
    "# Step 4: Reorder clinical_df to match column order of expression_df\n",
    "clinical_df = clinical_df.set_index(\"Sample ID\").loc[common_samples].reset_index()\n",
    "\n",
    "# Step 5: Rename \"index\" back to \"Sample ID\"\n",
    "clinical_df.rename(columns={\"index\": \"Sample ID\"}, inplace=True)\n",
    "\n",
    "print(f\"expression_df shape: {expression_df.shape}\")\n",
    "print(f\"expression_df shape: {clinical_df.shape}\")"
   ]
  },
  {
   "cell_type": "code",
   "execution_count": 3,
   "id": "1e2d650f-2f91-4a27-8a8c-6e69907b7b35",
   "metadata": {},
   "outputs": [
    {
     "name": "stdout",
     "output_type": "stream",
     "text": [
      "Expression data and clinical metadata are aligned!\n"
     ]
    }
   ],
   "source": [
    "assert all(expression_df.columns == clinical_df[\"Sample ID\"])\n",
    "print(\"Expression data and clinical metadata are aligned!\")"
   ]
  },
  {
   "cell_type": "markdown",
   "id": "a3061752-d99f-4cb1-9f76-73c3d88865d4",
   "metadata": {},
   "source": [
    "## Find overlapping genes among gastric cancer, hypercholesterolemia, and obesity datasets"
   ]
  },
  {
   "cell_type": "markdown",
   "id": "1f6e5a4f-8660-4e0b-8fe5-17b580aae674",
   "metadata": {},
   "source": [
    "### hypercholesterolemia genes"
   ]
  },
  {
   "cell_type": "code",
   "execution_count": 4,
   "id": "1e0acb42-3b30-47a2-8f3d-4c6c0ae342aa",
   "metadata": {},
   "outputs": [],
   "source": [
    "# chol_file = ('/Users/atanugiri/Downloads/gastric cancer data analysis/'\n",
    "# 'Hypercholesterolemia_gene_links_updated_final.xlsx')\n",
    "\n",
    "# df_chol = pd.read_excel(chol_file, skiprows=2)\n",
    "\n",
    "# # Extract genes from specified locations\n",
    "# genes_part1 = df_chol.iloc[0:27, 1]\n",
    "# genes_part2 = df_chol.iloc[28:82, 0]\n",
    "# genes_part3 = df_chol.iloc[83:178, 0]\n",
    "\n",
    "# # Concatenate all parts into a single list\n",
    "# chol_genes = pd.concat([genes_part1, genes_part2, genes_part3]).dropna().tolist()\n",
    "\n",
    "# chol_genes = [clean_gene_name(g) for g in chol_genes]\n",
    "# print(chol_genes)"
   ]
  },
  {
   "cell_type": "markdown",
   "id": "2856a430-719e-466b-b397-4c472877de8c",
   "metadata": {},
   "source": [
    "### Obesity genes"
   ]
  },
  {
   "cell_type": "code",
   "execution_count": 5,
   "id": "ea4a4e3f-e8d3-4d82-a92d-c53fc80783e2",
   "metadata": {},
   "outputs": [],
   "source": [
    "# obesity_file = ('/Users/atanugiri/Downloads/gastric cancer data analysis/'\n",
    "# 'obesity_gene_links_updated_final.xlsx')\n",
    "\n",
    "# df_obesity = pd.read_excel(obesity_file)\n",
    "\n",
    "# print(df_obesity.head(2))\n",
    "\n",
    "# obesity_genes = df_obesity[\"Gene Name\"].dropna().tolist()\n",
    "# obesity_genes = [clean_gene_name(g) for g in obesity_genes]\n",
    "# print(obesity_genes)"
   ]
  },
  {
   "cell_type": "markdown",
   "id": "a2e0c36e-78cc-4f60-9b69-b3f57c5433ac",
   "metadata": {},
   "source": [
    "### Common genes"
   ]
  },
  {
   "cell_type": "code",
   "execution_count": 6,
   "id": "2fa203f2-2658-45d1-9e0a-e6bd78e38388",
   "metadata": {},
   "outputs": [],
   "source": [
    "# gc_genes = df_sorted.index\n",
    "# gc_genes = [clean_gene_name(g) for g in gc_genes]\n",
    "\n",
    "# common_genes_gc_chol = set(chol_genes) & set(gc_genes)\n",
    "# print(f\"{len(common_genes_gc_chol)} common GC and Chol genes found:\\n{common_genes_gc_chol}\")\n",
    "# print(\"\\n\")\n",
    "\n",
    "# common_genes_gc_ob = set(obesity_genes) & set(gc_genes)\n",
    "# print(f\"{len(common_genes_gc_ob)} common GC and Obesity genes found:\\n{common_genes_gc_ob}\")\n",
    "# print(\"\\n\")\n",
    "\n",
    "# common_genes_gc_chol_ob = set(gc_genes) & set(chol_genes) & set(obesity_genes)\n",
    "# print(f\"{len(common_genes_gc_chol_ob)} common GC and Chol and Obesity genes found:\\n{common_genes_gc_chol_ob}\")"
   ]
  },
  {
   "cell_type": "markdown",
   "id": "1403403b-f999-46a9-b5bc-5d64da55b3ad",
   "metadata": {},
   "source": [
    "## Order genes by expression"
   ]
  },
  {
   "cell_type": "code",
   "execution_count": 7,
   "id": "c54cac0d-b2ab-465e-85e0-01ec8b2be98f",
   "metadata": {
    "scrolled": true
   },
   "outputs": [
    {
     "data": {
      "text/plain": [
       "Index(['LIPF', 'PGA3', 'XIST', 'GKN1', 'PGA4', 'RPS4Y1', 'MAGEA3', 'PGC',\n",
       "       'DAZ1', 'MAGEA6', 'BPIFB1', 'DDX3Y', 'GKN2', 'OLFM4', 'KDM5D',\n",
       "       'RP11-205M5.3', 'MUC5AC', 'CTD-2369P2.12', 'MUC6', 'FABP1'],\n",
       "      dtype='object')"
      ]
     },
     "execution_count": 7,
     "metadata": {},
     "output_type": "execute_result"
    }
   ],
   "source": [
    "gene_variance = expression_df.var(axis=1).sort_values(ascending=False)\n",
    "top_genes = gene_variance.head(20).index\n",
    "top_genes"
   ]
  },
  {
   "cell_type": "code",
   "execution_count": 8,
   "id": "858e0f58-66b2-4894-9999-6b6df3c731aa",
   "metadata": {
    "scrolled": true
   },
   "outputs": [
    {
     "data": {
      "image/png": "[encoded data removed]",
      "text/plain": [
       "<Figure size 1200x600 with 1 Axes>"
      ]
     },
     "metadata": {},
     "output_type": "display_data"
    }
   ],
   "source": [
    "import matplotlib.pyplot as plt\n",
    "\n",
    "# Transpose to shape: (patients, genes)\n",
    "expression_df.loc[top_genes].T.plot(kind='box', figsize=(12, 6))\n",
    "\n",
    "plt.title(\"Top 20 Most Variable Genes Across Patients\")\n",
    "plt.ylabel(\"Expression Level\")\n",
    "plt.xticks(rotation=90)\n",
    "plt.tight_layout()\n",
    "plt.show()"
   ]
  },
  {
   "cell_type": "markdown",
   "id": "616f5443-2850-48eb-a7cb-b3ad949c7e3c",
   "metadata": {},
   "source": [
    "### CD36 rank by expression"
   ]
  },
  {
   "cell_type": "code",
   "execution_count": 9,
   "id": "5e46e2cb-a1d2-40a2-b663-0c7f61f06af8",
   "metadata": {},
   "outputs": [
    {
     "name": "stdout",
     "output_type": "stream",
     "text": [
      "CD36 variance: 2.3162, Rank: 3870 out of 8863\n"
     ]
    }
   ],
   "source": [
    "# Get variance ranking of CD36\n",
    "cd36_variance = expression_df.var(axis=1).loc[\"CD36\"]\n",
    "rank = expression_df.var(axis=1).rank(ascending=False).loc[\"CD36\"]\n",
    "print(f\"CD36 variance: {cd36_variance:.4f}, Rank: {int(rank)} out of {expression_df.shape[0]}\")"
   ]
  },
  {
   "cell_type": "markdown",
   "id": "9e3c24ac-e423-4411-9942-6b924fef5bc1",
   "metadata": {},
   "source": [
    "## Survival status analysis"
   ]
  },
  {
   "cell_type": "markdown",
   "id": "6abe7ad0-505e-4610-9dd6-a1a37469cce8",
   "metadata": {},
   "source": [
    "### CD36 expression by survival status"
   ]
  },
  {
   "cell_type": "code",
   "execution_count": 10,
   "id": "dfe5a967-763f-4ee1-8e77-aaec24c79700",
   "metadata": {},
   "outputs": [
    {
     "data": {
      "image/png": "[encoded data removed]",
      "text/plain": [
       "<Figure size 500x500 with 1 Axes>"
      ]
     },
     "metadata": {},
     "output_type": "display_data"
    }
   ],
   "source": [
    "import seaborn as sns\n",
    "import matplotlib.pyplot as plt\n",
    "\n",
    "# Add CD36 expression to clinical data\n",
    "cd36_expr = expression_df.loc[\"CD36\"]\n",
    "plot_df = clinical_df.copy()\n",
    "plot_df[\"CD36 Expression\"] = cd36_expr.values\n",
    "\n",
    "# Drop rows with missing values\n",
    "plot_df = plot_df.dropna(subset=[\"CD36 Expression\", \"Overall Survival Status\", \"Sex\"])\n",
    "\n",
    "# Define palette\n",
    "palette = {0.0: \"blue\", 1.0: \"red\"}\n",
    "\n",
    "plt.figure(figsize=(5, 5))\n",
    "sns.barplot(\n",
    "    x=\"Overall Survival Status\",\n",
    "    y=\"CD36 Expression\",\n",
    "    hue=\"Overall Survival Status\",\n",
    "    data=plot_df,\n",
    "    palette=palette,\n",
    "    errorbar=\"se\",\n",
    "    dodge=False,\n",
    "    legend=False\n",
    ")\n",
    "\n",
    "plt.xlabel(\"Survival Status\")\n",
    "plt.ylabel(\"CD36 Expression\")\n",
    "plt.title(\"CD36 Expression by Survival Status\")\n",
    "\n",
    "# Replace x-tick values 0.0 and 1.0 with labels\n",
    "plt.xticks([0, 1], [\"Alive\", \"Dead\"])\n",
    "\n",
    "plt.tight_layout()\n",
    "plt.savefig(\"CD36_expression_by_survival_bar.png\", dpi=300, bbox_inches=\"tight\")\n",
    "plt.savefig(\"CD36_expression_by_survival_bar.pdf\", bbox_inches=\"tight\")\n",
    "plt.show()"
   ]
  },
  {
   "cell_type": "code",
   "execution_count": 11,
   "id": "a6d6e8b9-bb82-4bf2-9739-a77aecf804d1",
   "metadata": {},
   "outputs": [
    {
     "name": "stdout",
     "output_type": "stream",
     "text": [
      "CD36 Expression: t = -2.743, p = 0.0064\n"
     ]
    }
   ],
   "source": [
    "from scipy.stats import ttest_ind\n",
    "\n",
    "alive_vals = plot_df[plot_df[\"Overall Survival Status\"] == 0][\"CD36 Expression\"]\n",
    "dead_vals = plot_df[plot_df[\"Overall Survival Status\"] == 1][\"CD36 Expression\"]\n",
    "\n",
    "t_stat, p_val = ttest_ind(alive_vals, dead_vals, equal_var=False)\n",
    "print(f\"CD36 Expression: t = {t_stat:.3f}, p = {p_val:.4f}\")"
   ]
  },
  {
   "cell_type": "markdown",
   "id": "cf72aa5f-96cf-4070-900d-ca5bbe80b198",
   "metadata": {},
   "source": [
    "## Survival months analysis "
   ]
  },
  {
   "cell_type": "markdown",
   "id": "3864338b-1e98-457e-b47f-390d224a193b",
   "metadata": {},
   "source": [
    "Split into High vs. Low Expression"
   ]
  },
  {
   "cell_type": "code",
   "execution_count": 12,
   "id": "fa241698-f729-4dc7-b47b-a3b1387a6264",
   "metadata": {},
   "outputs": [],
   "source": [
    "# Calculate median expression\n",
    "threshold = expression_df.loc[\"CD36\"].median()\n",
    "\n",
    "# Add group label to clinical_df\n",
    "clinical_df[\"CD36_Group\"] = [\n",
    "    \"High\" if val >= threshold else \"Low\" \n",
    "    for val in expression_df.loc[\"CD36\"]\n",
    "]"
   ]
  },
  {
   "cell_type": "markdown",
   "id": "25648f6c-c172-44cf-854b-f566dac5c40a",
   "metadata": {},
   "source": [
    "Visualize Survival Months by CD36 Group"
   ]
  },
  {
   "cell_type": "code",
   "execution_count": 13,
   "id": "752ad8b1-cee7-4889-a592-a1bd41f9eb1b",
   "metadata": {},
   "outputs": [
    {
     "data": {
      "image/png": "[encoded data removed]",
      "text/plain": [
       "<Figure size 640x480 with 1 Axes>"
      ]
     },
     "metadata": {},
     "output_type": "display_data"
    }
   ],
   "source": [
    "import seaborn as sns\n",
    "import matplotlib.pyplot as plt\n",
    "\n",
    "sns.boxplot(x=\"CD36_Group\", y=\"Overall Survival (Months)\", data=clinical_df)\n",
    "plt.title(\"Overall Survival (Months) by CD36 Expression Group\")\n",
    "plt.ylabel(\"Overall Survival (Months)\")\n",
    "plt.xlabel(\"CD36 Expression Group\")\n",
    "plt.tight_layout()\n",
    "plt.show()"
   ]
  },
  {
   "cell_type": "markdown",
   "id": "13f26a02-3e0f-4762-8106-85381e1f8d68",
   "metadata": {},
   "source": [
    "Statistical Test: t-test Between Groups"
   ]
  },
  {
   "cell_type": "code",
   "execution_count": 14,
   "id": "8a019e9c-662d-4933-b045-e79c17d7d93c",
   "metadata": {},
   "outputs": [
    {
     "name": "stdout",
     "output_type": "stream",
     "text": [
      "Survival comparison by CD36: t = -1.684, p = 0.0929\n"
     ]
    }
   ],
   "source": [
    "from scipy.stats import ttest_ind\n",
    "\n",
    "group_high = clinical_df[clinical_df[\"CD36_Group\"] == \"High\"][\"Overall Survival (Months)\"]\n",
    "group_low = clinical_df[clinical_df[\"CD36_Group\"] == \"Low\"][\"Overall Survival (Months)\"]\n",
    "\n",
    "# Drop NaNs\n",
    "group_high = group_high.dropna()\n",
    "group_low = group_low.dropna()\n",
    "\n",
    "t_stat, p_val = ttest_ind(group_high, group_low, equal_var=False)\n",
    "print(f\"Survival comparison by CD36: t = {t_stat:.3f}, p = {p_val:.4f}\")"
   ]
  },
  {
   "cell_type": "markdown",
   "id": "de4bd1fa-c44f-4211-b2f9-01f24e11d22d",
   "metadata": {},
   "source": [
    "### KM survival curve by CD36 expression"
   ]
  },
  {
   "cell_type": "code",
   "execution_count": 15,
   "id": "229522e9-f637-4da6-8f57-117fa4343e62",
   "metadata": {
    "scrolled": true
   },
   "outputs": [
    {
     "data": {
      "image/png": "[encoded data removed]",
      "text/plain": [
       "<Figure size 500x500 with 1 Axes>"
      ]
     },
     "metadata": {},
     "output_type": "display_data"
    }
   ],
   "source": [
    "from lifelines import KaplanMeierFitter\n",
    "import matplotlib.pyplot as plt\n",
    "\n",
    "# Prepare data\n",
    "km_df = clinical_df[[\"Overall Survival (Months)\", \"Overall Survival Status\", \"CD36_Group\"]].dropna()\n",
    "\n",
    "# Initialize KM fitter\n",
    "kmf = KaplanMeierFitter()\n",
    "\n",
    "# Set group-specific colors\n",
    "group_colors = {\"High\": \"red\", \"Low\": \"blue\"}\n",
    "\n",
    "# Plot\n",
    "plt.figure(figsize=(5, 5))\n",
    "\n",
    "for group in [\"High\", \"Low\"]:\n",
    "    mask = km_df[\"CD36_Group\"] == group\n",
    "    kmf.fit(\n",
    "        durations=km_df[mask][\"Overall Survival (Months)\"],\n",
    "        event_observed=km_df[mask][\"Overall Survival Status\"],\n",
    "        label=f\"{group} CD36\"\n",
    "    )\n",
    "    kmf.plot_survival_function(ci_show=True, color=group_colors[group])\n",
    "\n",
    "plt.title(\"Kaplan–Meier Survival Curve by CD36 Expression\")\n",
    "plt.xlabel(\"Time (Months)\")\n",
    "plt.ylabel(\"Overall Survival Probability\")\n",
    "plt.tight_layout()\n",
    "\n",
    "# Save the figure\n",
    "plt.savefig(\"KM_CD36_survival_curve.png\", dpi=300, bbox_inches=\"tight\")\n",
    "plt.savefig(\"KM_CD36_survival_curve.pdf\", bbox_inches=\"tight\")\n",
    "plt.show()"
   ]
  },
  {
   "cell_type": "code",
   "execution_count": 19,
   "id": "b5893368-226f-4f64-a6c8-c73b0d76617b",
   "metadata": {},
   "outputs": [
    {
     "name": "stdout",
     "output_type": "stream",
     "text": [
      "Index(['95% lower-bound', '95% upper-bound'], dtype='object')\n"
     ]
    }
   ],
   "source": [
    "print(cph.confidence_intervals_.columns)"
   ]
  },
  {
   "cell_type": "code",
   "execution_count": 23,
   "id": "b5b90309-a761-48b1-8697-674221f63ed8",
   "metadata": {},
   "outputs": [
    {
     "data": {
      "image/png": "[encoded data removed]",
      "text/plain": [
       "<Figure size 500x500 with 1 Axes>"
      ]
     },
     "metadata": {},
     "output_type": "display_data"
    }
   ],
   "source": [
    "from lifelines import KaplanMeierFitter, CoxPHFitter\n",
    "import matplotlib.pyplot as plt\n",
    "\n",
    "# 1. Prepare data\n",
    "km_df = clinical_df[[\"Overall Survival (Months)\", \"Overall Survival Status\", \"CD36_Group\"]].dropna()\n",
    "# Binary encode CD36_Group: High=1, Low=0\n",
    "km_df[\"CD36_High\"] = (km_df[\"CD36_Group\"] == \"High\").astype(int)\n",
    "\n",
    "# 2. Fit Cox model\n",
    "cph = CoxPHFitter()\n",
    "cph.fit(\n",
    "    km_df,\n",
    "    duration_col=\"Overall Survival (Months)\",\n",
    "    event_col=\"Overall Survival Status\",\n",
    "    formula=\"CD36_High\"\n",
    ")\n",
    "\n",
    "# Extract HR, CI and p-value\n",
    "hr = cph.hazard_ratios_[\"CD36_High\"]\n",
    "import numpy as np\n",
    "\n",
    "log_ci = cph.confidence_intervals_.loc[\"CD36_High\"]\n",
    "ci_lower = np.exp(log_ci[\"95% lower-bound\"])\n",
    "ci_upper = np.exp(log_ci[\"95% upper-bound\"])\n",
    "\n",
    "p_value = cph.summary.loc[\"CD36_High\", \"p\"]\n",
    "\n",
    "# 3. Plot KM curves\n",
    "kmf = KaplanMeierFitter()\n",
    "group_colors = {\"High\": \"red\", \"Low\": \"blue\"}\n",
    "\n",
    "plt.figure(figsize=(5, 5))\n",
    "ax = plt.gca()\n",
    "\n",
    "for group in [\"High\", \"Low\"]:\n",
    "    mask = km_df[\"CD36_Group\"] == group\n",
    "    kmf.fit(\n",
    "        durations=km_df[mask][\"Overall Survival (Months)\"],\n",
    "        event_observed=km_df[mask][\"Overall Survival Status\"],\n",
    "        label=f\"{group} CD36\"\n",
    "    )\n",
    "    kmf.plot_survival_function(ci_show=True, color=group_colors[group], ax=ax)\n",
    "\n",
    "# 4. Annotate HR on the plot\n",
    "hr_text = (\n",
    "    f\"HR = {hr:.2f}  \\n\"\n",
    "    f\"95% CI: {ci_lower:.2f}–{ci_upper:.2f}  \\n\"\n",
    "    f\"p = {p_value:.3f}\"\n",
    ")\n",
    "# Place the text in the upper right corner of the axes\n",
    "ax.text(\n",
    "    0.95, 0.95, hr_text,\n",
    "    transform=ax.transAxes,\n",
    "    ha=\"right\", va=\"top\",\n",
    "    bbox=dict(boxstyle=\"round,pad=0.3\", facecolor=\"white\", alpha=0.8)\n",
    ")\n",
    "\n",
    "plt.title(\"Kaplan–Meier Survival Curve by CD36 Expression\")\n",
    "plt.xlabel(\"Time (Months)\")\n",
    "plt.ylabel(\"Overall Survival Probability\")\n",
    "plt.tight_layout()\n",
    "\n",
    "# Save and show\n",
    "plt.savefig(\"KM_CD36_with_HR.png\", dpi=300, bbox_inches=\"tight\")\n",
    "plt.savefig(\"KM_CD36_with_HR.pdf\", bbox_inches=\"tight\")\n",
    "plt.show()\n"
   ]
  },
  {
   "cell_type": "code",
   "execution_count": null,
   "id": "e24e9092-8727-492d-98e4-f2bba80eb941",
   "metadata": {},
   "outputs": [],
   "source": []
  },
  {
   "cell_type": "code",
   "execution_count": null,
   "id": "a2f04d8e-59fe-4ddc-84a8-10394e04e342",
   "metadata": {},
   "outputs": [],
   "source": []
  },
  {
   "cell_type": "code",
   "execution_count": 22,
   "id": "25ec82f5-2e37-4cd3-98c9-d22447928eb5",
   "metadata": {},
   "outputs": [
    {
     "name": "stdout",
     "output_type": "stream",
     "text": [
      "exp(coef)    1.689539\n",
      "p            0.001047\n",
      "Name: CD36_High, dtype: float64\n"
     ]
    }
   ],
   "source": [
    "print(cph.summary.loc[\"CD36_High\", [\"exp(coef)\", \"p\"]])"
   ]
  },
  {
   "cell_type": "code",
   "execution_count": 21,
   "id": "ddd78a7a-82e4-4927-a290-8bf81c2ceb52",
   "metadata": {},
   "outputs": [
    {
     "name": "stdout",
     "output_type": "stream",
     "text": [
      "Log-rank test: p = 0.0009\n"
     ]
    }
   ],
   "source": [
    "from lifelines.statistics import logrank_test\n",
    "\n",
    "# Groups\n",
    "high = km_df[km_df[\"CD36_Group\"] == \"High\"]\n",
    "low = km_df[km_df[\"CD36_Group\"] == \"Low\"]\n",
    "\n",
    "# Test\n",
    "results = logrank_test(\n",
    "    high[\"Overall Survival (Months)\"], low[\"Overall Survival (Months)\"],\n",
    "    event_observed_A=high[\"Overall Survival Status\"],\n",
    "    event_observed_B=low[\"Overall Survival Status\"]\n",
    ")\n",
    "\n",
    "print(f\"Log-rank test: p = {results.p_value:.4f}\")"
   ]
  },
  {
   "cell_type": "markdown",
   "id": "f40b6dda-9086-4f46-bc28-f730c4b637a8",
   "metadata": {},
   "source": [
    "## Sex effect study"
   ]
  },
  {
   "cell_type": "markdown",
   "id": "9bdb6238-64d8-4adc-8b34-6c75c606729a",
   "metadata": {},
   "source": [
    "### Compare CD36 Expression Between Male and Female"
   ]
  },
  {
   "cell_type": "code",
   "execution_count": null,
   "id": "4af1aeb6-463f-4010-bc07-c84107215ee2",
   "metadata": {},
   "outputs": [],
   "source": [
    "import seaborn as sns\n",
    "import matplotlib.pyplot as plt\n",
    "\n",
    "# Define custom color palette for Sex\n",
    "sex_palette = {\"Male\": \"blue\", \"Female\": \"red\"}\n",
    "\n",
    "# Prepare the plot\n",
    "plt.figure(figsize=(5, 5))\n",
    "sns.barplot(\n",
    "    x=\"Sex\",\n",
    "    y=\"CD36 Expression\",\n",
    "    data=plot_df,\n",
    "    errorbar = \"se\",\n",
    "    palette=sex_palette\n",
    ")\n",
    "\n",
    "plt.title(\"CD36 Expression by Sex\")\n",
    "plt.tight_layout()\n",
    "\n",
    "# Save the figure\n",
    "plt.savefig(\"CD36_expression_by_sex.png\", dpi=300, bbox_inches=\"tight\")\n",
    "plt.savefig(\"CD36_expression_by_sex.pdf\", bbox_inches=\"tight\")\n",
    "plt.show()"
   ]
  },
  {
   "cell_type": "code",
   "execution_count": null,
   "id": "7ad978f9-8e1b-4e5a-a360-868bc8892965",
   "metadata": {},
   "outputs": [],
   "source": [
    "from scipy.stats import ttest_ind\n",
    "\n",
    "male_vals = plot_df[plot_df[\"Sex\"] == \"Male\"][\"CD36 Expression\"]\n",
    "female_vals = plot_df[plot_df[\"Sex\"] == \"Female\"][\"CD36 Expression\"]\n",
    "\n",
    "t_stat, p_val = ttest_ind(male_vals, female_vals, equal_var=False)\n",
    "print(f\"CD36 Expression by Sex: t = {t_stat:.3f}, p = {p_val:.4f}\")\n"
   ]
  },
  {
   "cell_type": "markdown",
   "id": "74ad9284-cdc1-476f-b3eb-73be1130913b",
   "metadata": {},
   "source": [
    "### Compare Survival Months by Sex"
   ]
  },
  {
   "cell_type": "code",
   "execution_count": null,
   "id": "3df31d93-3bd7-4d43-a0ce-c931d1d3b86f",
   "metadata": {},
   "outputs": [],
   "source": [
    "import seaborn as sns\n",
    "import matplotlib.pyplot as plt\n",
    "from scipy.stats import ttest_ind\n",
    "\n",
    "# Define custom color palette\n",
    "sex_palette = {\"Male\": \"blue\", \"Female\": \"red\"}\n",
    "\n",
    "# Plot\n",
    "plt.figure(figsize=(5, 5))\n",
    "sns.barplot(\n",
    "    x=\"Sex\",\n",
    "    y=\"Overall Survival (Months)\",\n",
    "    data=clinical_df,\n",
    "    errorbar = \"se\",\n",
    "    palette=sex_palette\n",
    ")\n",
    "\n",
    "plt.title(\"Survival Duration by Sex\")\n",
    "plt.tight_layout()\n",
    "\n",
    "# Save the figure\n",
    "plt.savefig(\"survival_by_sex_bar.png\", dpi=300, bbox_inches=\"tight\")\n",
    "plt.savefig(\"survival_by_sex_bar.pdf\", bbox_inches=\"tight\")\n",
    "plt.show()\n",
    "\n",
    "# T-test\n",
    "male_surv = clinical_df[clinical_df[\"Sex\"] == \"Male\"][\"Overall Survival (Months)\"].dropna()\n",
    "female_surv = clinical_df[clinical_df[\"Sex\"] == \"Female\"][\"Overall Survival (Months)\"].dropna()\n",
    "\n",
    "t_stat, p_val = ttest_ind(male_surv, female_surv, equal_var=False)\n",
    "print(f\"Survival by Sex: t = {t_stat:.3f}, p = {p_val:.4f}\")\n"
   ]
  },
  {
   "cell_type": "markdown",
   "id": "492860af-db7a-4163-8cb5-887c055c3c4d",
   "metadata": {},
   "source": [
    "## Race effect study"
   ]
  },
  {
   "cell_type": "code",
   "execution_count": null,
   "id": "47f871be-53a5-42a6-8071-adc244dd484c",
   "metadata": {},
   "outputs": [],
   "source": [
    "print(clinical_df[\"Race Category\"].value_counts(dropna=False))"
   ]
  },
  {
   "cell_type": "markdown",
   "id": "a01a711b-cfc4-4ca1-a873-e97b4c62ffbe",
   "metadata": {},
   "source": [
    "### Boxplot of CD36 Expression by Race"
   ]
  },
  {
   "cell_type": "code",
   "execution_count": null,
   "id": "84275a80-de26-4b2c-aa9d-6e9b420b18c0",
   "metadata": {
    "scrolled": true
   },
   "outputs": [],
   "source": [
    "# Define races to include\n",
    "selected_races = [\"WHITE\", \"ASIAN\", \"BLACK OR AFRICAN AMERICAN\"]\n",
    "\n",
    "# Filter clinical data\n",
    "filtered_race_df = clinical_df[clinical_df[\"Race Category\"].isin(selected_races)].copy()\n",
    "\n",
    "# Add CD36 expression\n",
    "filtered_race_df[\"CD36 Expression\"] = expression_df.loc[\"CD36\", filtered_race_df[\"Sample ID\"]].values\n"
   ]
  },
  {
   "cell_type": "code",
   "execution_count": null,
   "id": "9a9ad142-2f26-4613-a2c0-faca91842154",
   "metadata": {},
   "outputs": [],
   "source": [
    "import seaborn as sns\n",
    "import matplotlib.pyplot as plt\n",
    "\n",
    "# Custom race color palette\n",
    "custom_palette = {\n",
    "    \"WHITE\": \"#1f77b4\",\n",
    "    \"ASIAN\": \"#2ca02c\",\n",
    "    \"BLACK OR AFRICAN AMERICAN\": \"#d62728\"\n",
    "}\n",
    "\n",
    "plt.figure(figsize=(5, 5))\n",
    "ax = sns.barplot(\n",
    "    x=\"Race Category\",\n",
    "    y=\"CD36 Expression\",\n",
    "    data=filtered_race_df,\n",
    "    errorbar=\"se\",\n",
    "    palette=custom_palette\n",
    ")\n",
    "\n",
    "# Set custom x-tick labels\n",
    "ax.set_xticks([0, 1, 2])\n",
    "ax.set_xticklabels([\"White\", \"Asian\", \"Black\\nor African\\nAmerican\"])\n",
    "\n",
    "plt.title(\"CD36 Expression by Race\")\n",
    "plt.tight_layout()\n",
    "\n",
    "# Save\n",
    "plt.savefig(\"CD36_expression_by_race.png\", dpi=300, bbox_inches=\"tight\")\n",
    "plt.savefig(\"CD36_expression_by_race.pdf\", bbox_inches=\"tight\")\n",
    "plt.show()\n"
   ]
  },
  {
   "cell_type": "code",
   "execution_count": null,
   "id": "fafba4f8-291b-4d90-b5ac-f65f35d189df",
   "metadata": {},
   "outputs": [],
   "source": [
    "from scipy.stats import f_oneway\n",
    "\n",
    "# Extract values per group\n",
    "groups = [\n",
    "    filtered_race_df[filtered_race_df[\"Race Category\"] == race][\"CD36 Expression\"].dropna()\n",
    "    for race in selected_races\n",
    "]\n",
    "\n",
    "f_stat, p_val = f_oneway(*groups)\n",
    "print(f\"ANOVA: CD36 by Race (WHITE, ASIAN, BLACK): F = {f_stat:.3f}, p = {p_val:.4f}\")\n"
   ]
  },
  {
   "cell_type": "markdown",
   "id": "7621e152-5c83-48bc-9395-bdea8999381f",
   "metadata": {},
   "source": [
    "## Analysis of cancer type"
   ]
  },
  {
   "cell_type": "code",
   "execution_count": null,
   "id": "e9f161a2-48d0-449d-a027-f9af188ee07f",
   "metadata": {},
   "outputs": [],
   "source": [
    "cancer_stage = clinical_df[\"AJCC Pathologic Stage\"]\n",
    "print(cancer_stage.value_counts(dropna=False))"
   ]
  },
  {
   "cell_type": "code",
   "execution_count": null,
   "id": "728c2f12-71e8-4859-8af0-276fe9ce24de",
   "metadata": {},
   "outputs": [],
   "source": [
    "# Extract Roman numeral (I, II, III, IV)\n",
    "clinical_df[\"Stage Group\"] = (\n",
    "    clinical_df[\"AJCC Pathologic Stage\"]\n",
    "    .str.extract(r\"(Stage\\s+I{1,3}V?)\")[0]\n",
    ")"
   ]
  },
  {
   "cell_type": "code",
   "execution_count": null,
   "id": "ab382640-2c93-44f1-a356-c1f4997ca033",
   "metadata": {
    "scrolled": true
   },
   "outputs": [],
   "source": [
    "print(clinical_df[\"Stage Group\"].value_counts(dropna=False))"
   ]
  },
  {
   "cell_type": "code",
   "execution_count": null,
   "id": "87d4921f-9f6d-48f4-bbfe-fe63155fac1e",
   "metadata": {},
   "outputs": [],
   "source": [
    "# Define desired stage order\n",
    "stage_order = [\"Stage I\", \"Stage II\", \"Stage III\", \"Stage IV\"]\n",
    "\n",
    "# Convert to ordered category\n",
    "clinical_df[\"Stage Group\"] = pd.Categorical(\n",
    "    clinical_df[\"Stage Group\"],\n",
    "    categories=stage_order,\n",
    "    ordered=True\n",
    ")"
   ]
  },
  {
   "cell_type": "code",
   "execution_count": null,
   "id": "a6affbea-b0cf-4d9e-be26-530edcaee52c",
   "metadata": {},
   "outputs": [],
   "source": [
    "import seaborn as sns\n",
    "import matplotlib.pyplot as plt\n",
    "\n",
    "# Define a custom color palette for the 4 stages\n",
    "stage_palette = {\n",
    "    \"Stage I\": \"lightgreen\",\n",
    "    \"Stage II\": \"skyblue\",\n",
    "    \"Stage III\": \"orange\",\n",
    "    \"Stage IV\": \"red\"\n",
    "}\n",
    "\n",
    "# Prepare data\n",
    "stage_plot_df = clinical_df[clinical_df[\"Stage Group\"].notna()].copy()\n",
    "stage_plot_df[\"CD36 Expression\"] = expression_df.loc[\"CD36\", stage_plot_df[\"Sample ID\"]].values\n",
    "\n",
    "# Plot\n",
    "plt.figure(figsize=(5, 5))\n",
    "sns.barplot(\n",
    "    x=\"Stage Group\",\n",
    "    y=\"CD36 Expression\",\n",
    "    data=stage_plot_df,\n",
    "    errorbar=\"se\",\n",
    "    palette=stage_palette\n",
    ")\n",
    "\n",
    "plt.title(\"CD36 Expression by Cancer Stage\")\n",
    "plt.tight_layout()\n",
    "\n",
    "# Save the figure\n",
    "plt.savefig(\"CD36_expression_by_stage.png\", dpi=300, bbox_inches=\"tight\")\n",
    "plt.savefig(\"CD36_expression_by_stage.pdf\", bbox_inches=\"tight\")\n",
    "plt.show()"
   ]
  },
  {
   "cell_type": "code",
   "execution_count": null,
   "id": "d937eb85-f343-4b1e-ae1e-ee1a4b7ccb86",
   "metadata": {},
   "outputs": [],
   "source": [
    "from scipy.stats import f_oneway\n",
    "\n",
    "groups = [\n",
    "    stage_plot_df[stage_plot_df[\"Stage Group\"] == stage][\"CD36 Expression\"]\n",
    "    for stage in sorted(stage_plot_df[\"Stage Group\"].unique())\n",
    "]\n",
    "\n",
    "f_stat, p_val = f_oneway(*groups)\n",
    "print(f\"ANOVA: CD36 by Stage Group: F = {f_stat:.3f}, p = {p_val:.4f}\")"
   ]
  },
  {
   "cell_type": "markdown",
   "id": "0837ea2b-a1d3-49f9-b34c-fe8f12de7e88",
   "metadata": {},
   "source": [
    "# Volcano Plot"
   ]
  },
  {
   "cell_type": "code",
   "execution_count": null,
   "id": "8322d12b-91b1-47ee-8d45-4e99b7ae8b81",
   "metadata": {},
   "outputs": [],
   "source": [
    "import numpy as np\n",
    "import pandas as pd\n",
    "import matplotlib.pyplot as plt\n",
    "from scipy.stats import ttest_ind\n",
    "\n",
    "# Create arrays\n",
    "log2_fc = []\n",
    "pvals = []\n",
    "\n",
    "alive_ids = clinical_df[clinical_df[\"Overall Survival Status\"] == 0][\"Sample ID\"]\n",
    "dead_ids = clinical_df[clinical_df[\"Overall Survival Status\"] == 1][\"Sample ID\"]\n",
    "\n",
    "for gene in expression_df.index:\n",
    "    group1 = expression_df.loc[gene, alive_ids]\n",
    "    group2 = expression_df.loc[gene, dead_ids]\n",
    "    \n",
    "    # Log2 fold change (group2 - group1)\n",
    "    fc = group2.mean() - group1.mean()\n",
    "    log2_fc.append(fc)\n",
    "    \n",
    "    # t-test\n",
    "    _, p = ttest_ind(group1, group2, equal_var=False, nan_policy='omit')\n",
    "    pvals.append(p)\n",
    "\n",
    "# Create DataFrame\n",
    "volcano_df = pd.DataFrame({\n",
    "    \"Gene\": expression_df.index,\n",
    "    \"log2FC\": log2_fc,\n",
    "    \"pval\": pvals\n",
    "})\n",
    "volcano_df[\"-log10pval\"] = -np.log10(volcano_df[\"pval\"])\n",
    "\n",
    "# Filter for significant genes\n",
    "significant_genes = volcano_df[\n",
    "    (volcano_df[\"pval\"] < 0.05) & (abs(volcano_df[\"log2FC\"]) >= 1)\n",
    "]\n",
    "\n",
    "# Plot\n",
    "plt.figure(figsize=(10, 6))\n",
    "plt.scatter(volcano_df[\"log2FC\"], volcano_df[\"-log10pval\"], s=10, alpha=0.4, label='All genes')\n",
    "plt.scatter(significant_genes[\"log2FC\"], significant_genes[\"-log10pval\"], color='red', s=10, alpha=0.8, label='Significant')\n",
    "\n",
    "# Label significant genes\n",
    "for _, row in significant_genes.iterrows():\n",
    "    plt.text(row[\"log2FC\"], row[\"-log10pval\"], row[\"Gene\"],\n",
    "             fontsize=8, ha='right' if row[\"log2FC\"] < 0 else 'left')\n",
    "\n",
    "# Threshold lines\n",
    "plt.axhline(-np.log10(0.05), linestyle='--', color='gray', label='p = 0.05')\n",
    "plt.axvline(1, linestyle='--', color='red')\n",
    "plt.axvline(-1, linestyle='--', color='blue')\n",
    "\n",
    "plt.xlabel(\"log2(Fold Change)\")\n",
    "plt.ylabel(\"-log10(p-value)\")\n",
    "plt.title(\"Volcano Plot with Labeled Significant Genes (Alive vs Deceased)\")\n",
    "plt.legend()\n",
    "plt.tight_layout()\n",
    "\n",
    "# Save the figure\n",
    "plt.savefig(\"volcano_plot_labeled_significant.png\", dpi=300, bbox_inches=\"tight\")\n",
    "plt.savefig(\"volcano_plot_labeled_significant.pdf\", bbox_inches=\"tight\")\n",
    "plt.show()"
   ]
  },
  {
   "cell_type": "markdown",
   "id": "eccc25db-c46f-4f21-b2aa-2d1ec9a46925",
   "metadata": {},
   "source": [
    "## Volcano plot with FDR"
   ]
  },
  {
   "cell_type": "code",
   "execution_count": null,
   "id": "e412443a-b9d7-45ad-a2f7-d445568d1d87",
   "metadata": {},
   "outputs": [],
   "source": [
    "from statsmodels.stats.multitest import multipletests\n",
    "\n",
    "# Apply Benjamini-Hochberg FDR correction\n",
    "volcano_df[\"FDR\"], _, _, _ = multipletests(volcano_df[\"pval\"], method='fdr_bh')\n",
    "\n",
    "# Define significant genes based on FDR\n",
    "significant_fdr = volcano_df[\n",
    "    (volcano_df[\"FDR\"] < 0.05) & (abs(volcano_df[\"log2FC\"]) >= 1)\n",
    "]"
   ]
  },
  {
   "cell_type": "code",
   "execution_count": null,
   "id": "10a05b99-0141-47f3-9ae7-f2427c569ef5",
   "metadata": {},
   "outputs": [],
   "source": [
    "import matplotlib.pyplot as plt\n",
    "\n",
    "plt.figure(figsize=(10, 6))\n",
    "\n",
    "# All genes\n",
    "plt.scatter(volcano_df[\"log2FC\"], -np.log10(volcano_df[\"pval\"]), s=10, alpha=0.4, label='All genes')\n",
    "\n",
    "# FDR-significant genes\n",
    "plt.scatter(significant_fdr[\"log2FC\"], -np.log10(significant_fdr[\"pval\"]),\n",
    "            color='red', s=10, alpha=0.8, label='FDR < 0.05')\n",
    "\n",
    "# Label genes\n",
    "for _, row in significant_fdr.iterrows():\n",
    "    plt.text(\n",
    "        row[\"log2FC\"],\n",
    "        -np.log10(row[\"pval\"]),\n",
    "        row[\"Gene\"],\n",
    "        fontsize=8,\n",
    "        ha='right' if row[\"log2FC\"] < 0 else 'left'\n",
    "    )\n",
    "\n",
    "# Threshold lines\n",
    "plt.axhline(-np.log10(0.05), linestyle='--', color='gray', label='p = 0.05')\n",
    "plt.axvline(1, linestyle='--', color='red')\n",
    "plt.axvline(-1, linestyle='--', color='blue')\n",
    "\n",
    "plt.xlabel(\"log2(Fold Change)\")\n",
    "plt.ylabel(\"-log10(p-value)\")\n",
    "plt.title(\"Volcano Plot with FDR-Significant Genes Labeled\")\n",
    "plt.legend()\n",
    "plt.tight_layout()\n",
    "\n",
    "# Save the plot\n",
    "plt.savefig(\"volcano_plot_fdr_labeled.png\", dpi=300, bbox_inches=\"tight\")\n",
    "plt.savefig(\"volcano_plot_fdr_labeled.pdf\", bbox_inches=\"tight\")\n",
    "plt.show()"
   ]
  },
  {
   "cell_type": "code",
   "execution_count": null,
   "id": "705c3c66-013e-4c0a-9276-405653888340",
   "metadata": {},
   "outputs": [],
   "source": []
  }
 ],
 "metadata": {
  "kernelspec": {
   "display_name": "Python 3 (ipykernel)",
   "language": "python",
   "name": "python3"
  },
  "language_info": {
   "codemirror_mode": {
    "name": "ipython",
    "version": 3
   },
   "file_extension": ".py",
   "mimetype": "text/x-python",
   "name": "python",
   "nbconvert_exporter": "python",
   "pygments_lexer": "ipython3",
   "version": "3.10.16"
  }
 },
 "nbformat": 4,
 "nbformat_minor": 5
}
