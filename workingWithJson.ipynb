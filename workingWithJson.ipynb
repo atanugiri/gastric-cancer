{
 "cells": [
  {
   "cell_type": "code",
   "execution_count": 11,
   "id": "e9f40782-e077-4cd0-aa08-991ce66768a7",
   "metadata": {},
   "outputs": [
    {
     "name": "stdout",
     "output_type": "stream",
     "text": [
      "  lost_to_followup                                   family_histories  \\\n",
      "0              Yes  [{'relative_with_cancer_history': 'no', 'updat...   \n",
      "1               No  [{'relative_with_cancer_history': 'no', 'updat...   \n",
      "2               No  [{'relative_with_cancer_history': 'no', 'updat...   \n",
      "3              NaN  [{'relative_with_cancer_history': 'no', 'updat...   \n",
      "4              Yes  [{'relative_with_cancer_history': 'no', 'updat...   \n",
      "\n",
      "                   disease_type                      project  submitter_id  \\\n",
      "0  Adenomas and Adenocarcinomas  {'project_id': 'TCGA-STAD'}  TCGA-BR-8368   \n",
      "1  Adenomas and Adenocarcinomas  {'project_id': 'TCGA-STAD'}  TCGA-D7-8575   \n",
      "2  Adenomas and Adenocarcinomas  {'project_id': 'TCGA-STAD'}  TCGA-HU-A4H4   \n",
      "3  Adenomas and Adenocarcinomas  {'project_id': 'TCGA-STAD'}  TCGA-VQ-A925   \n",
      "4  Adenomas and Adenocarcinomas  {'project_id': 'TCGA-STAD'}  TCGA-BR-6710   \n",
      "\n",
      "   days_to_consent                                          diagnoses  \\\n",
      "0             38.0  [{'synchronous_malignancy': 'No', 'ajcc_pathol...   \n",
      "1              0.0  [{'morphology': '8211/3', 'submitter_id': 'TCG...   \n",
      "2             -7.0  [{'synchronous_malignancy': 'No', 'ajcc_pathol...   \n",
      "3              0.0  [{'synchronous_malignancy': 'No', 'ajcc_pathol...   \n",
      "4              9.0  [{'synchronous_malignancy': 'No', 'ajcc_pathol...   \n",
      "\n",
      "       consent_type                                        demographic  \\\n",
      "0  Informed Consent  {'demographic_id': '06a76bae-61ab-58f1-b2f7-0b...   \n",
      "1  Informed Consent  {'cause_of_death': 'Cancer Related', 'ethnicit...   \n",
      "2  Informed Consent  {'demographic_id': '5e30f052-e273-5fb6-972e-30...   \n",
      "3  Informed Consent  {'cause_of_death': 'Cancer Related', 'ethnicit...   \n",
      "4  Informed Consent  {'demographic_id': '049c07ce-0915-548a-a10e-11...   \n",
      "\n",
      "  primary_site                  updated_datetime  \\\n",
      "0      Stomach  2025-01-06T10:24:44.087797-06:00   \n",
      "1      Stomach  2025-01-06T09:54:53.810756-06:00   \n",
      "2      Stomach  2025-01-06T09:51:07.945122-06:00   \n",
      "3      Stomach  2025-01-06T10:29:59.394198-06:00   \n",
      "4      Stomach  2025-01-06T09:41:24.471487-06:00   \n",
      "\n",
      "                                case_id  \\\n",
      "0  00781a96-4068-427c-a9c5-584d167c3dea   \n",
      "1  00ee3098-1b32-4e7a-81ea-993773587c41   \n",
      "2  00fdf96d-c48a-47e0-b91d-576c52e6819c   \n",
      "3  012921da-962c-462c-9c36-d0f21b23c028   \n",
      "4  012e99fe-e3e8-4bb0-bb74-5b0c9992187c   \n",
      "\n",
      "                                          follow_ups index_date     state  \n",
      "0  [{'timepoint_category': 'Last Contact', 'follo...  Diagnosis  released  \n",
      "1  [{'timepoint_category': 'Follow-up', 'follow_u...  Diagnosis  released  \n",
      "2  [{'timepoint_category': 'Last Contact', 'follo...  Diagnosis  released  \n",
      "3  [{'timepoint_category': 'Last Contact', 'follo...  Diagnosis  released  \n",
      "4  [{'timepoint_category': 'Follow-up', 'follow_u...  Diagnosis  released  \n",
      "(443, 15)\n"
     ]
    }
   ],
   "source": [
    "import pandas as pd\n",
    "\n",
    "# Load JSON file\n",
    "df = pd.read_json('clinical.project-tcga-stad.2025-04-27.json')\n",
    "\n",
    "# Now df is a normal pandas DataFrame\n",
    "print(df.head())\n",
    "print(df.shape)"
   ]
  },
  {
   "cell_type": "code",
   "execution_count": 10,
   "id": "74624ead-c97f-4a75-a63a-8f1e80773662",
   "metadata": {},
   "outputs": [
    {
     "name": "stdout",
     "output_type": "stream",
     "text": [
      "                                case_id                      project  \\\n",
      "0  00781a96-4068-427c-a9c5-584d167c3dea  {'project_id': 'TCGA-STAD'}   \n",
      "1  00ee3098-1b32-4e7a-81ea-993773587c41  {'project_id': 'TCGA-STAD'}   \n",
      "2  00fdf96d-c48a-47e0-b91d-576c52e6819c  {'project_id': 'TCGA-STAD'}   \n",
      "3  012921da-962c-462c-9c36-d0f21b23c028  {'project_id': 'TCGA-STAD'}   \n",
      "4  012e99fe-e3e8-4bb0-bb74-5b0c9992187c  {'project_id': 'TCGA-STAD'}   \n",
      "\n",
      "   submitter_id                                            samples  \n",
      "0  TCGA-BR-8368  [{'sample_type_id': '01', 'tumor_descriptor': ...  \n",
      "1  TCGA-D7-8575  [{'sample_type_id': '10', 'tumor_descriptor': ...  \n",
      "2  TCGA-HU-A4H4  [{'sample_type_id': '11', 'tumor_descriptor': ...  \n",
      "3  TCGA-VQ-A925  [{'sample_type_id': '01', 'tumor_descriptor': ...  \n",
      "4  TCGA-BR-6710  [{'intermediate_dimension': 1.8, 'sample_type_...  \n",
      "(443, 4)\n"
     ]
    }
   ],
   "source": [
    "# Load JSON file\n",
    "df = pd.read_json('biospecimen.project-tcga-stad.2025-04-27.json')\n",
    "\n",
    "# Now df is a normal pandas DataFrame\n",
    "print(df.head())\n",
    "print(df.shape)"
   ]
  },
  {
   "cell_type": "code",
   "execution_count": null,
   "id": "b8b2d6c8-e28b-48d6-ba4f-aeb196c429b1",
   "metadata": {},
   "outputs": [],
   "source": []
  }
 ],
 "metadata": {
  "kernelspec": {
   "display_name": "Python 3 (ipykernel)",
   "language": "python",
   "name": "python3"
  },
  "language_info": {
   "codemirror_mode": {
    "name": "ipython",
    "version": 3
   },
   "file_extension": ".py",
   "mimetype": "text/x-python",
   "name": "python",
   "nbconvert_exporter": "python",
   "pygments_lexer": "ipython3",
   "version": "3.10.16"
  }
 },
 "nbformat": 4,
 "nbformat_minor": 5
}
