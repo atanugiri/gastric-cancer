{
 "cells": [
  {
   "cell_type": "markdown",
   "id": "0d439824-cbae-403e-aa40-040d575f084b",
   "metadata": {},
   "source": [
    "### Read gene expression file"
   ]
  },
  {
   "cell_type": "code",
   "execution_count": 26,
   "id": "5d208e20-e7ed-40ab-9017-cd559aa76141",
   "metadata": {
    "collapsed": true,
    "jupyter": {
     "outputs_hidden": true
    }
   },
   "outputs": [
    {
     "name": "stdout",
     "output_type": "stream",
     "text": [
      "       TCGA-BR-4279-01  TCGA-VQ-A94T-01  TCGA-BR-8589-01  TCGA-BR-A4IV-01  \\\n",
      "A1CF           10.4647           6.6146          10.4016           4.6554   \n",
      "A2ML1           0.0000           4.3985           2.4817           1.3475   \n",
      "\n",
      "       TCGA-VQ-A8E2-01  TCGA-BR-8297-01  TCGA-D7-A4YY-01  TCGA-BR-4280-01  \\\n",
      "A1CF            9.8054           4.7419           5.1548          10.5675   \n",
      "A2ML1           3.4159           2.4948           6.3345           0.0000   \n",
      "\n",
      "       TCGA-D7-A74A-01  TCGA-F1-6177-01  ...  GTEX-QV44-1226-SM-4R1KE  \\\n",
      "A1CF            9.4567          10.7863  ...                   5.7464   \n",
      "A2ML1           6.7217           0.0000  ...                   3.5820   \n",
      "\n",
      "       GTEX-13PVQ-2126-SM-5L3FW  GTEX-SNMC-0626-SM-4DM6H  \\\n",
      "A1CF                     3.5094                   5.3059   \n",
      "A2ML1                    3.3348                   4.4367   \n",
      "\n",
      "       GTEX-WZTO-2126-SM-4PQYW  GTEX-Q2AH-1126-SM-48TZM  \\\n",
      "A1CF                    3.2506                   5.4593   \n",
      "A2ML1                   3.0795                   5.4593   \n",
      "\n",
      "       GTEX-P4QT-1526-SM-3NMCT  TCGA-CG-5734-11  GTEX-QDVJ-1426-SM-48U1Y  \\\n",
      "A1CF                    0.0000          12.1036                   5.1895   \n",
      "A2ML1                   3.6917           1.9619                   3.7267   \n",
      "\n",
      "       GTEX-ZYVF-2726-SM-5GID4  GTEX-12BJ1-1726-SM-5HL9B  \n",
      "A1CF                    1.5227                    5.7748  \n",
      "A2ML1                   4.9529                    5.7748  \n",
      "\n",
      "[2 rows x 623 columns]\n"
     ]
    }
   ],
   "source": [
    "import pandas as pd\n",
    "import os\n",
    "import importlib\n",
    "import clean_gene_name  # import the module first\n",
    "importlib.reload(clean_gene_name)  # reload the module\n",
    "from clean_gene_name import clean_gene_name  # re-import the updated function\n",
    "\n",
    "# Folder path\n",
    "path = ('/Users/atanugiri/.cache/kagglehub/datasets/mahdiehhajian/'\n",
    "'gene-expression-in-gastric-cancer/versions/1')\n",
    "\n",
    "# Full file path\n",
    "file_path = os.path.join(path, 'expression profile(8863 genes).csv')\n",
    "\n",
    "# Read the CSV and set first column as index\n",
    "df = pd.read_csv(file_path, index_col=0)\n",
    "\n",
    "# Preview\n",
    "print(df.head(2))"
   ]
  },
  {
   "cell_type": "markdown",
   "id": "c19b5997-9a5e-47fc-ba77-bd428368fed9",
   "metadata": {},
   "source": [
    "### Sort genes by mean expression"
   ]
  },
  {
   "cell_type": "code",
   "execution_count": 27,
   "id": "9deab0d6-56b0-4d6e-91e9-5fb70782a7e8",
   "metadata": {
    "scrolled": true
   },
   "outputs": [
    {
     "name": "stdout",
     "output_type": "stream",
     "text": [
      "        mean_expression\n",
      "MT-CO1        20.441745\n",
      "ACTB          17.813150\n",
      "ACTG1         16.995492\n",
      "B2M           16.381114\n",
      "GAPDH         16.359765\n"
     ]
    }
   ],
   "source": [
    "df['mean_expression'] = df.mean(axis=1)\n",
    "df_sorted = df.sort_values('mean_expression', ascending=False)\n",
    "print(df_sorted[['mean_expression']].head())"
   ]
  },
  {
   "cell_type": "markdown",
   "id": "dec81159-b517-4ab8-b2f3-f88a346c5e14",
   "metadata": {},
   "source": [
    "# Find overlapping genes among gastric cancer, hypercholesterolemia, and obesity datasets"
   ]
  },
  {
   "cell_type": "markdown",
   "id": "9134c414-d1da-4b16-a51a-ebb94a9289bc",
   "metadata": {},
   "source": [
    "### hypercholesterolemia genes"
   ]
  },
  {
   "cell_type": "code",
   "execution_count": 28,
   "id": "5c6565b1-b66c-4e94-a6bf-63b59ab7af73",
   "metadata": {
    "collapsed": true,
    "jupyter": {
     "outputs_hidden": true
    },
    "scrolled": true
   },
   "outputs": [
    {
     "name": "stdout",
     "output_type": "stream",
     "text": [
      "['APOB', 'APOE', 'EPHX2', 'CFHR1', 'APOA2', 'HMCN1', 'PPP1R17', 'CFHR3', 'LDLRAP1', 'LDLR', 'PCSK9', 'GHR', 'PSEN1', 'ABCA4', 'FBLN5', 'HTRA1', 'CFH', 'C3', 'CST3', 'RAX2', 'ERCC6', 'ARMS2', 'CX3CR1', 'CFI', 'C2', 'C9', 'LDLR', 'DAB2', 'APOB', 'PCSK9', 'LDLRAP1', 'SLC37A4', 'PHKG', 'PHKA2', 'PYGL', 'GALK1', 'FOS', 'CAV3', 'CAVIN1', 'RAI1', 'PLVAP', 'CAV1', 'LMNA', 'BSCL2', 'AGPAT2', 'OCRL', 'SLC7A7', 'TSHB', 'TDP1', 'SETX', 'APTX', 'PPARG', 'ALB', 'DGAT1', 'TTPA', 'GHR', 'DYRK1B', 'NUP107', 'JAG1', 'TBLX1', 'RSPO1', 'COG4', 'MTX2', 'CYP7A1', 'SLC25A13', 'APOC3', 'DAAM2', 'TMEM199', 'CCDC115', 'LIPC', 'MTHFR', 'ABCG5', 'ABCG8', 'CETP', 'LIPA', 'APOE2', 'CEP19', 'PIK3R5', 'DMPK', 'ABCA1', 'ABCG1', 'ACAT', 'AKT', 'AP-1', 'APOA1', 'APOC3', 'ASC', 'ATF4', 'ATF6', 'BAX', 'BCL-2', 'BID', 'BIP', 'BRAP1', 'BRAP2', 'CASP1', 'CASP3', 'CD36', 'CD40', 'CD40L', 'CHOP', 'CK', 'CREB', 'CRP', 'CSF1R', 'CYLD', 'DAPK1', 'DNA-PK', 'ER-α', 'ERK', 'FADD', 'FAK', 'FLIP', 'GRP78', 'GSK3β', 'HMGCR', 'ICAM-1', 'IKK', 'IL-1', 'IL-6', 'IL-8', 'IL-10', 'IL-1β', 'IL-18', 'IRE1α', 'JAK', 'JNK', 'LOX-1', 'MAPK', 'MCP-1', 'MDM2', 'MEKK3', 'miR-155', 'MLKL', 'MPO', 'MyD88', 'NCOR1', 'NEMO', 'NF-κB', 'NLRP3', 'NOX', 'PDIA3', 'PERK', 'PI3K', 'PKC', 'PPAR-γ', 'PTEN', 'p38', 'p53', 'p65', 'Rac', 'Ras', 'RIP1', 'RIP3', 'ROS', 'SCAP', 'SFA', 'SIRT1', 'SREBP', 'STAT3', 'SYK', 'TAB1', 'TAB2', 'TAK1', 'TLR2', 'TLR4', 'TNF-α', 'TRAF2', 'TRAF6', 'VCAM-1', 'VEGFR', 'VSMCs']\n"
     ]
    }
   ],
   "source": [
    "chol_file = ('/Users/atanugiri/Downloads/gastric cancer data analysis/'\n",
    "'Hypercholesterolemia_gene_links_updated_final.xlsx')\n",
    "\n",
    "df_chol = pd.read_excel(chol_file, skiprows=2)\n",
    "\n",
    "# Extract genes from specified locations\n",
    "genes_part1 = df_chol.iloc[0:27, 1]\n",
    "genes_part2 = df_chol.iloc[28:82, 0]\n",
    "genes_part3 = df_chol.iloc[83:178, 0]\n",
    "\n",
    "# Concatenate all parts into a single list\n",
    "chol_genes = pd.concat([genes_part1, genes_part2, genes_part3]).dropna().tolist()\n",
    "\n",
    "chol_genes = [clean_gene_name(g) for g in chol_genes]\n",
    "print(chol_genes)"
   ]
  },
  {
   "cell_type": "markdown",
   "id": "e778dc34-163e-4ce8-b9d5-3eeb7a0c0ffa",
   "metadata": {},
   "source": [
    "### Obesity genes"
   ]
  },
  {
   "cell_type": "code",
   "execution_count": 29,
   "id": "a6f11f95-c42c-4dcb-a264-6399f44b8141",
   "metadata": {
    "collapsed": true,
    "jupyter": {
     "outputs_hidden": true
    },
    "scrolled": true
   },
   "outputs": [
    {
     "name": "stdout",
     "output_type": "stream",
     "text": [
      "  Gene Name Unnamed: 1 STRING\n",
      "0   HDAC6          NaN    NaN\n",
      "1   L3STL          NaN    NaN\n",
      "['HDAC6', 'L3STL', 'INPP5E', 'VPS13B', 'CEP19', 'MKS1', 'WDR35', 'WDR19', 'TTC8', 'TMEM67', 'CC2D2A', 'BBS7', 'BBS1', 'BBS5', 'BBS4', 'BBS9', 'BBS2', 'BBS12', 'TRIM32', 'ARL6', 'BBS10', 'MKKS', 'CEP290', 'ALMS1', 'ADGRG3', 'CELA2A', 'MAGEL2', 'DYRK1B', 'NTRK2', 'KIDINS220', 'GNAT3', 'GNAS', 'ENPP1', 'ENPP2', 'MRAP', 'MRAP2', 'NR0B2', 'SLC6A14', 'TUB', 'GRP', 'LEP', 'LEPR', 'MC3R', 'MC4R', 'MC5R', 'ADCY3', 'RET', 'POMC', 'CHRM3', 'CHRM4', 'INS', 'ADIPOQ', 'UCP1', 'UCP2', 'UCP3', 'NR5A2', 'HNF4A', 'FTO', 'PARP1', 'PARG', 'PRKAG2', 'PRKAG3', 'AGRP', 'NPY', 'NPY1R', 'NPY2R', 'NPY4R', 'NPY5R', 'CARTPT', 'UCN', 'UCN2', 'UCN3', 'HCRTR1', 'HCRTR2', 'NR3C1', 'NR3C2', 'EIF2S3', 'PPARG', 'POMC', 'NR0B2', 'SDC3', 'GHRL', 'CARTPT', 'ENPP1', 'ADRB3', 'UCP3', 'AGRP', 'NEUROD1', 'SLC2A2', 'WFS1', 'IL6', 'GCK', 'PAX4', 'ABCC8', 'HNF1A', 'PDX1', 'IPC', 'HNF1B', 'AKT2', 'HNF4A', 'IRS', 'TNF', 'TNF-α', 'TNFR1', 'IL-6', 'STAT3', 'SOCS3', 'JNK1', 'IKKβ', 'NF-κB', 'FOXO1', 'GSK3', 'GS', 'PTP1B', 'PTEN', 'GLUT4', 'ADIPOR', 'AMPK', 'CPT1', 'ACC', 'SCD1', 'PDK', 'IKK', 'PKC', 'PI3K', 'AKT', 'mTOR', 'S6K', 'PDK1', 'TSC', 'TSC1', 'TSC2', 'RHEB', 'SREBP', 'PEPCK', 'G6PC', 'OGT', 'PPAR-γ', 'UCP', 'UCP-1', 'DGAT', 'TRB3', 'LKB1', 'TAK1', 'PPAR-α', 'FABP', 'MCD', 'FASN', 'PGC-1α', 'FOXO', 'HSL', 'ATGL', 'PKA', 'ACOX', 'CPT-2', 'DAG', 'Cer', 'PASK', 'NDUFB3', 'LCAD', 'MCAD', 'SDHA', 'ERstress', 'ROS', 'CD36', 'FATP', 'CD14/TLR4']\n"
     ]
    }
   ],
   "source": [
    "obesity_file = ('/Users/atanugiri/Downloads/gastric cancer data analysis/'\n",
    "'obesity_gene_links_updated_final.xlsx')\n",
    "\n",
    "df_obesity = pd.read_excel(obesity_file)\n",
    "\n",
    "print(df_obesity.head(2))\n",
    "\n",
    "obesity_genes = df_obesity[\"Gene Name\"].dropna().tolist()\n",
    "obesity_genes = [clean_gene_name(g) for g in obesity_genes]\n",
    "print(obesity_genes)"
   ]
  },
  {
   "cell_type": "markdown",
   "id": "aba234c9-6888-438b-8718-bb6ea60ffccb",
   "metadata": {},
   "source": [
    "### Common genes"
   ]
  },
  {
   "cell_type": "code",
   "execution_count": 37,
   "id": "6d789013-4295-45c3-879a-4cbc506307ed",
   "metadata": {
    "collapsed": true,
    "jupyter": {
     "outputs_hidden": true
    },
    "scrolled": true
   },
   "outputs": [
    {
     "name": "stdout",
     "output_type": "stream",
     "text": [
      "28 common GC and Chol genes found:\n",
      "{'LIPA', 'LIPC', 'FBLN5', 'BID', 'PDIA3', 'CX3CR1', 'CETP', 'RSPO1', 'HMCN1', 'ATF4', 'PCSK9', 'SLC7A7', 'APOE', 'DMPK', 'CRP', 'CD36', 'CFI', 'ALB', 'AGPAT2', 'DAAM2', 'CAV3', 'C2', 'ABCG5', 'ABCG8', 'GHR', 'APOA1', 'SYK', 'CAV1'}\n",
      "\n",
      "\n",
      "36 common GC and Obesity genes found:\n",
      "{'GHRL', 'PRKAG2', 'HNF1B', 'ADRB3', 'HNF1A', 'CARTPT', 'INS', 'HNF4A', 'UCN2', 'OGT', 'NPY1R', 'UCN3', 'UCP2', 'GRP', 'LEPR', 'GCK', 'CELA2A', 'NPY5R', 'CD36', 'NPY', 'WDR19', 'POMC', 'MRAP', 'NPY2R', 'RET', 'PDX1', 'ADIPOQ', 'NEUROD1', 'TNF', 'ABCC8', 'LEP', 'CHRM3', 'SLC6A14', 'TUB', 'NR5A2', 'PAX4'}\n",
      "\n",
      "\n",
      "1 common GC and Chol and Obesity genes found:\n",
      "{'CD36'}\n"
     ]
    }
   ],
   "source": [
    "gc_genes = df_sorted.index\n",
    "gc_genes = [clean_gene_name(g) for g in gc_genes]\n",
    "\n",
    "common_genes_gc_chol = set(chol_genes) & set(gc_genes)\n",
    "print(f\"{len(common_genes_gc_chol)} common GC and Chol genes found:\\n{common_genes_gc_chol}\")\n",
    "print(\"\\n\")\n",
    "\n",
    "common_genes_gc_ob = set(obesity_genes) & set(gc_genes)\n",
    "print(f\"{len(common_genes_gc_ob)} common GC and Obesity genes found:\\n{common_genes_gc_ob}\")\n",
    "print(\"\\n\")\n",
    "\n",
    "common_genes_gc_chol_ob = set(gc_genes) & set(chol_genes) & set(obesity_genes)\n",
    "print(f\"{len(common_genes_gc_chol_ob)} common GC and Chol and Obesity genes found:\\n{common_genes_gc_chol_ob}\")"
   ]
  },
  {
   "cell_type": "markdown",
   "id": "e5af8f7b-1101-4cd3-a2d5-85b29ec92573",
   "metadata": {},
   "source": [
    "# Sex, Age, Race analysis"
   ]
  },
  {
   "cell_type": "markdown",
   "id": "aab1e1a9-a322-4d48-8fb8-d1c3517c7a9a",
   "metadata": {},
   "source": [
    "### Read tsv files"
   ]
  },
  {
   "cell_type": "code",
   "execution_count": 69,
   "id": "244a220d-93bf-4810-a226-3d7a9db01590",
   "metadata": {},
   "outputs": [
    {
     "name": "stdout",
     "output_type": "stream",
     "text": [
      "Combined shape: (738, 5)\n",
      "Unique Sample ID shape: (443, 5)\n"
     ]
    }
   ],
   "source": [
    "file_paths = ['tcga_gdc_clinical_data.tsv',\n",
    "              'tcga_pub_clinical_data.tsv']\n",
    "\n",
    "combined_df = pd.DataFrame()\n",
    "\n",
    "for path in file_paths:\n",
    "    if 'tcga_gdc_clinical_data.tsv' in path:\n",
    "        usecols = ['Sample ID', 'Diagnosis Age', 'Race Category', 'Sex', 'Biopsy Site']\n",
    "        df = pd.read_csv(path, sep='\\t', usecols=usecols)\n",
    "        df = df.rename(columns={'Biopsy Site': 'Anatomic Region'})  # normalize column name\n",
    "    else:\n",
    "        usecols = ['Sample ID', 'Diagnosis Age', 'Race Category', 'Sex', 'Anatomic Region']\n",
    "        df = pd.read_csv(path, sep='\\t', usecols=usecols)\n",
    "    \n",
    "    combined_df = pd.concat([combined_df, df], ignore_index=True)\n",
    "\n",
    "print(\"Combined shape:\", combined_df.shape)\n",
    "\n",
    "# Drop duplicates\n",
    "combined_df = combined_df.drop_duplicates(subset='Sample ID', keep='first')\n",
    "\n",
    "# Check shapes\n",
    "print(\"Unique Sample ID shape:\", combined_df_unique.shape)"
   ]
  },
  {
   "cell_type": "code",
   "execution_count": 71,
   "id": "bd89974c-ccfe-49db-bedd-9a7afad5505a",
   "metadata": {},
   "outputs": [],
   "source": [
    "from normalize_race import normalize_race\n",
    "# Apply normalization\n",
    "combined_df['Race Category'] = combined_df['Race Category'].apply(normalize_race)"
   ]
  },
  {
   "cell_type": "code",
   "execution_count": 72,
   "id": "7f388ec3-bc79-4bae-aa3f-9a9865df9212",
   "metadata": {},
   "outputs": [
    {
     "name": "stdout",
     "output_type": "stream",
     "text": [
      "['White' 'Asian' 'Unknown' 'Black or African American'\n",
      " 'Native Hawaiian or Other Pacific Islander']\n",
      "['Male' 'Female']\n",
      "[nan 51. 62. 52. 74. 60. 55. 70. 56. 53. 72. 66. 80. 76. 79. 43. 78. 73.\n",
      " 65. 58. 87. 75. 71. 54. 59. 69. 57. 46. 67. 64. 68. 63. 41. 81. 50. 49.\n",
      " 61. 42. 84. 89. 45. 77. 34. 47. 39. 82. 48. 86. 83. 85. 88. 44. 30. 35.]\n",
      "['Lesser curvature of stomach, NOS' 'Stomach, NOS' 'Body of stomach'\n",
      " 'Fundus of stomach' 'Cardia, NOS' 'Gastric antrum' 'Pylorus']\n"
     ]
    }
   ],
   "source": [
    "print(combined_df['Race Category'].unique())\n",
    "print(combined_df['Sex'].unique())\n",
    "print(combined_df['Diagnosis Age'].unique())\n",
    "print(combined_df['Anatomic Region'].unique())"
   ]
  },
  {
   "cell_type": "code",
   "execution_count": null,
   "id": "25406078-4f48-4c79-9e8d-6f95cfe127f6",
   "metadata": {},
   "outputs": [],
   "source": []
  }
 ],
 "metadata": {
  "kernelspec": {
   "display_name": "Python 3 (ipykernel)",
   "language": "python",
   "name": "python3"
  },
  "language_info": {
   "codemirror_mode": {
    "name": "ipython",
    "version": 3
   },
   "file_extension": ".py",
   "mimetype": "text/x-python",
   "name": "python",
   "nbconvert_exporter": "python",
   "pygments_lexer": "ipython3",
   "version": "3.10.16"
  }
 },
 "nbformat": 4,
 "nbformat_minor": 5
}
